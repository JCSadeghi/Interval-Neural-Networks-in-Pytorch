{
 "cells": [
  {
   "cell_type": "markdown",
   "metadata": {},
   "source": [
    "# A very simple interval neural network implementation in pytorch\n",
    "\n",
    "See paper:\n",
    "\n",
    "[Efficient Training of Interval Neural Networks for Imprecise Training Data](https://doi.org/10.1016/j.neunet.2019.07.005). [Sadeghi, Jonathan](JCSadeghi.github.io), [de Angelis, Marco](https://www.liverpool.ac.uk/risk-and-uncertainty/staff/marcodeangelis/), and [Patelli, Edoardo](https://www.liverpool.ac.uk/engineering/staff/edoardo-patelli/). *Neural Networks*. 2019. doi: 10.1016/j.neunet.2019.07.005\n"
   ]
  },
  {
   "cell_type": "markdown",
   "metadata": {},
   "source": [
    "Firstly:\n",
    "`pip install -r requirements.txt` in python 3.7"
   ]
  },
  {
   "cell_type": "code",
   "execution_count": 1,
   "metadata": {
    "pycharm": {
     "name": "#%%\n"
    }
   },
   "outputs": [
    {
     "data": {
      "text/plain": [
       "<torch._C.Generator at 0x129f14470>"
      ]
     },
     "execution_count": 1,
     "metadata": {},
     "output_type": "execute_result"
    }
   ],
   "source": [
    "import random\n",
    "\n",
    "import matplotlib.pyplot as plt\n",
    "import numpy as np\n",
    "import torch\n",
    "import torch.nn as nn\n",
    "import torch.utils.data\n",
    "\n",
    "np.random.seed(0)\n",
    "random.seed(0)\n",
    "torch.manual_seed(0)"
   ]
  },
  {
   "cell_type": "code",
   "execution_count": 2,
   "metadata": {
    "pycharm": {
     "name": "#%%\n"
    }
   },
   "outputs": [],
   "source": [
    "# Hyper-parameters\n",
    "num_epochs = 200\n",
    "batch_size = 20"
   ]
  },
  {
   "cell_type": "code",
   "execution_count": 3,
   "metadata": {
    "pycharm": {
     "name": "#%%\n"
    }
   },
   "outputs": [],
   "source": [
    "# Toy dataset\n",
    "x_train = np.expand_dims(np.arange(0, 1, 0.005), -1)\n",
    "y_train = np.tanh(3 * x_train) + 0.1 * np.random.rand(x_train.shape[0], 1)\n",
    "dataset = torch.utils.data.TensorDataset(torch.from_numpy(x_train).float(),\n",
    "                                         torch.from_numpy(y_train).float())\n",
    "dataloader = torch.utils.data.DataLoader(dataset,\n",
    "                                         batch_size=batch_size,\n",
    "                                         shuffle=True)"
   ]
  },
  {
   "cell_type": "code",
   "execution_count": 4,
   "metadata": {
    "pycharm": {
     "name": "#%%\n"
    }
   },
   "outputs": [],
   "source": [
    "class Model(torch.nn.Module):\n",
    "    def __init__(self, n_hidden):\n",
    "        super().__init__()\n",
    "        self.linear_1 = nn.Linear(1, n_hidden)\n",
    "        self.linear_2 = nn.Linear(n_hidden, 1)\n",
    "        self.h = torch.nn.Parameter(torch.Tensor([1.0]))\n",
    "\n",
    "    def forward(self, x):\n",
    "        return self.linear_2(torch.nn.functional.tanh(self.linear_1(x)))"
   ]
  },
  {
   "cell_type": "code",
   "execution_count": 5,
   "metadata": {
    "pycharm": {
     "name": "#%%\n"
    }
   },
   "outputs": [],
   "source": [
    "model = Model(10)\n",
    "\n",
    "# Loss and optimizer\n",
    "optimizer = torch.optim.Adam(model.parameters(), lr=0.01)"
   ]
  },
  {
   "cell_type": "code",
   "execution_count": 6,
   "metadata": {
    "pycharm": {
     "name": "#%%\n"
    }
   },
   "outputs": [
    {
     "name": "stderr",
     "output_type": "stream",
     "text": [
      "/Users/jonathan/simple-interval-neural-net-pytorch/venv/lib/python3.7/site-packages/torch/nn/functional.py:1795: UserWarning: nn.functional.tanh is deprecated. Use torch.tanh instead.\n",
      "  warnings.warn(\"nn.functional.tanh is deprecated. Use torch.tanh instead.\")\n"
     ]
    },
    {
     "name": "stdout",
     "output_type": "stream",
     "text": [
      "Epoch [5/200], Loss: 0.3576\n",
      "Epoch [10/200], Loss: 0.2046\n",
      "Epoch [15/200], Loss: 0.2099\n",
      "Epoch [20/200], Loss: 0.1871\n",
      "Epoch [25/200], Loss: 0.1758\n",
      "Epoch [30/200], Loss: 0.1316\n",
      "Epoch [35/200], Loss: 0.1305\n",
      "Epoch [40/200], Loss: 0.0816\n",
      "Epoch [45/200], Loss: 0.0648\n",
      "Epoch [50/200], Loss: 0.0701\n",
      "Epoch [55/200], Loss: 0.0764\n",
      "Epoch [60/200], Loss: 0.0519\n",
      "Epoch [65/200], Loss: 0.0602\n",
      "Epoch [70/200], Loss: 0.0653\n",
      "Epoch [75/200], Loss: 0.0604\n",
      "Epoch [80/200], Loss: 0.0515\n",
      "Epoch [85/200], Loss: 0.0634\n",
      "Epoch [90/200], Loss: 0.0539\n",
      "Epoch [95/200], Loss: 0.0574\n",
      "Epoch [100/200], Loss: 0.0732\n",
      "Epoch [105/200], Loss: 0.0565\n",
      "Epoch [110/200], Loss: 0.0588\n",
      "Epoch [115/200], Loss: 0.0578\n",
      "Epoch [120/200], Loss: 0.0761\n",
      "Epoch [125/200], Loss: 0.0563\n",
      "Epoch [130/200], Loss: 0.0537\n",
      "Epoch [135/200], Loss: 0.0603\n",
      "Epoch [140/200], Loss: 0.0503\n",
      "Epoch [145/200], Loss: 0.0617\n",
      "Epoch [150/200], Loss: 0.0518\n",
      "Epoch [155/200], Loss: 0.0625\n",
      "Epoch [160/200], Loss: 0.0577\n",
      "Epoch [165/200], Loss: 0.0646\n",
      "Epoch [170/200], Loss: 0.0543\n",
      "Epoch [175/200], Loss: 0.0509\n",
      "Epoch [180/200], Loss: 0.0672\n",
      "Epoch [185/200], Loss: 0.0564\n",
      "Epoch [190/200], Loss: 0.0649\n",
      "Epoch [195/200], Loss: 0.0536\n",
      "Epoch [200/200], Loss: 0.0565\n"
     ]
    }
   ],
   "source": [
    "error_log = []\n",
    "\n",
    "# Train the model\n",
    "for epoch in range(num_epochs):\n",
    "    batch_error_log = []\n",
    "    for inputs, targets in dataloader:\n",
    "        # Forward pass\n",
    "        outputs = model(inputs)\n",
    "        max_error = torch.max(torch.abs(outputs - targets))\n",
    "        batch_error_log.append(max_error.detach().numpy())\n",
    "        loss = (model.h - max_error) ** 2 + max_error\n",
    "\n",
    "        # Backward and optimize\n",
    "        optimizer.zero_grad()\n",
    "        loss.backward()\n",
    "        optimizer.step()\n",
    "    error_log.append(np.array(batch_error_log).mean())\n",
    "\n",
    "    if (epoch + 1) % 5 == 0:\n",
    "        print('Epoch [{}/{}], Loss: {:.4f}'.format(\n",
    "            epoch + 1,\n",
    "            num_epochs,\n",
    "            np.array(batch_error_log).mean()\n",
    "        ))\n"
   ]
  },
  {
   "cell_type": "code",
   "execution_count": 7,
   "metadata": {
    "pycharm": {
     "name": "#%%\n"
    }
   },
   "outputs": [
    {
     "data": {
      "image/png": "[encoded data removed]",
      "text/plain": [
       "<Figure size 432x288 with 1 Axes>"
      ]
     },
     "metadata": {
      "needs_background": "light"
     },
     "output_type": "display_data"
    }
   ],
   "source": [
    "# Plot the graph\n",
    "predicted = model(torch.from_numpy(x_train).float()).detach().numpy()\n",
    "plt.plot(x_train, y_train, 'ro', label='Original data')\n",
    "plt.plot(x_train, predicted, label='Fitted line')\n",
    "plt.plot(x_train, predicted + model.h.detach().numpy())\n",
    "plt.plot(x_train, predicted - model.h.detach().numpy())\n",
    "plt.legend()\n",
    "plt.show()"
   ]
  },
  {
   "cell_type": "code",
   "execution_count": 8,
   "metadata": {
    "pycharm": {
     "name": "#%%\n"
    }
   },
   "outputs": [
    {
     "data": {
      "image/png": "[encoded data removed]",
      "text/plain": [
       "<Figure size 432x288 with 1 Axes>"
      ]
     },
     "metadata": {
      "needs_background": "light"
     },
     "output_type": "display_data"
    }
   ],
   "source": [
    "plt.plot(error_log)\n",
    "plt.show()"
   ]
  }
 ],
 "metadata": {
  "kernelspec": {
   "display_name": "Python 3 (ipykernel)",
   "language": "python",
   "name": "python3"
  },
  "language_info": {
   "codemirror_mode": {
    "name": "ipython",
    "version": 3
   },
   "file_extension": ".py",
   "mimetype": "text/x-python",
   "name": "python",
   "nbconvert_exporter": "python",
   "pygments_lexer": "ipython3",
   "version": "3.7.7"
  }
 },
 "nbformat": 4,
 "nbformat_minor": 1
}
